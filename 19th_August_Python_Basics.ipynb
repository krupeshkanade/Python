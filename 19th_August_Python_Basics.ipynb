{
 "cells": [
  {
   "cell_type": "code",
   "execution_count": 26,
   "id": "109b8cac-5414-452c-b164-2acb914a31d1",
   "metadata": {},
   "outputs": [],
   "source": [
    "#TOPIC: Python Basics Variable"
   ]
  },
  {
   "cell_type": "code",
   "execution_count": 2,
   "id": "696fbbf1-32a0-4ba4-963c-ed4ecbd584f9",
   "metadata": {},
   "outputs": [],
   "source": [
    "#Declare two variables, `x` and `y`, and assign them integer values. Swap the values of these variables without using any temporary variable.\n",
    "x = 10\n",
    "y = 20"
   ]
  },
  {
   "cell_type": "code",
   "execution_count": 5,
   "id": "98fe75de-7734-4f5d-8f8c-3acc07d56bac",
   "metadata": {},
   "outputs": [
    {
     "data": {
      "text/plain": [
       "(10, 20)"
      ]
     },
     "execution_count": 5,
     "metadata": {},
     "output_type": "execute_result"
    }
   ],
   "source": [
    "(x,y)"
   ]
  },
  {
   "cell_type": "code",
   "execution_count": 6,
   "id": "20d61446-d47d-4df0-9a06-534563fce6ba",
   "metadata": {},
   "outputs": [],
   "source": [
    "x, y = y, x"
   ]
  },
  {
   "cell_type": "code",
   "execution_count": 7,
   "id": "da154f06-f4e2-4428-8ebb-eb358f77e4ee",
   "metadata": {},
   "outputs": [
    {
     "data": {
      "text/plain": [
       "(20, 10)"
      ]
     },
     "execution_count": 7,
     "metadata": {},
     "output_type": "execute_result"
    }
   ],
   "source": [
    "(x,y)"
   ]
  },
  {
   "cell_type": "code",
   "execution_count": 19,
   "id": "0e464900-0e50-4f86-90d0-cd3f97f5bff2",
   "metadata": {},
   "outputs": [
    {
     "name": "stdin",
     "output_type": "stream",
     "text": [
      " 10\n",
      " 10\n"
     ]
    },
    {
     "name": "stdout",
     "output_type": "stream",
     "text": [
      "100\n"
     ]
    }
   ],
   "source": [
    "#Create a program that calculates the area of a rectangle. Take the length and width as inputs from the user and store them in variables. Calculate and display the area.\n",
    "l = int(input())\n",
    "w = int(input())\n",
    "\n",
    "#Area of Rectangle in Length * Width\n",
    "a = l * w\n",
    "print(a) #also we can add sentense print(\"Area of Rect = \"+ str(a))"
   ]
  },
  {
   "cell_type": "code",
   "execution_count": 24,
   "id": "f00b8f0f-7043-477b-b04f-468e77a9ce34",
   "metadata": {},
   "outputs": [
    {
     "name": "stdin",
     "output_type": "stream",
     "text": [
      " 200\n"
     ]
    },
    {
     "name": "stdout",
     "output_type": "stream",
     "text": [
      "Temp in Celcius 200 is equal to Temp in Fahrenheit 392.0\n"
     ]
    }
   ],
   "source": [
    "#Write a Python program that converts temperatures from Celsius to Fahrenheit. Take the temperature in Celsius as input, store it in a variable, convert it to Fahrenheit, and display the result.\n",
    "tc = int(input())\n",
    "\n",
    "tf = (tc * 9 / 5) + 32\n",
    "print(\"Temp in Celcius \"+str(tc)+ \" is equal to \" +\"Temp in Fahrenheit \"+str(tf))"
   ]
  },
  {
   "cell_type": "code",
   "execution_count": 25,
   "id": "c1153756-7da0-4efa-b8f5-7b68307aa054",
   "metadata": {},
   "outputs": [],
   "source": [
    "#TOPIC: String Based Questions"
   ]
  },
  {
   "cell_type": "code",
   "execution_count": 32,
   "id": "2742477a-3650-4764-99f6-13495d3d08b7",
   "metadata": {},
   "outputs": [
    {
     "name": "stdin",
     "output_type": "stream",
     "text": [
      " This is my first Python Program\n"
     ]
    },
    {
     "name": "stdout",
     "output_type": "stream",
     "text": [
      "Length of String is 31\n"
     ]
    }
   ],
   "source": [
    "#Write a Python program that takes a string as input and prints the length of the string.\n",
    "s = str(input())\n",
    "\n",
    "print(\"Length of String is \" + str(len(s)))"
   ]
  },
  {
   "cell_type": "code",
   "execution_count": 93,
   "id": "f733a2cf-640b-4930-9b56-6805b1fd7a64",
   "metadata": {},
   "outputs": [
    {
     "name": "stdout",
     "output_type": "stream",
     "text": [
      "Number of vowels in the given string is:  1\n"
     ]
    }
   ],
   "source": [
    "#Create a program that takes a sentence from the user and counts the number of vowels (a, e, i, o, u) in the string.\n",
    "example = \"Rup\"\n",
    "\n",
    "vowels = [\"a\", \"e\", \"i\", \"o\", \"u\"]\n",
    "count = 0\n",
    "\n",
    "# using for-each loop, character is reference to a letter in the string\n",
    "for variable in example:\n",
    "    if variable in vowels:\n",
    "        count += 1\n",
    "\n",
    "print(\"Number of vowels in the given string is: \", count)"
   ]
  },
  {
   "cell_type": "code",
   "execution_count": 40,
   "id": "dd3c2da9-3ac1-4915-839b-745fb7da092e",
   "metadata": {},
   "outputs": [
    {
     "name": "stdin",
     "output_type": "stream",
     "text": [
      " rupesh\n"
     ]
    },
    {
     "name": "stdout",
     "output_type": "stream",
     "text": [
      "hsepur\n"
     ]
    }
   ],
   "source": [
    "#Given a string, reverse the order of characters using string slicing and print the reversed string.\n",
    "\n",
    "word = str(input())\n",
    "\n",
    "rev = word[::-1]\n",
    "\n",
    "print(rev)"
   ]
  },
  {
   "cell_type": "code",
   "execution_count": 71,
   "id": "b473c472-a8a6-4713-a2a1-fcadced681e3",
   "metadata": {},
   "outputs": [
    {
     "name": "stdin",
     "output_type": "stream",
     "text": [
      "Enter a letter: rrr\n"
     ]
    },
    {
     "name": "stdout",
     "output_type": "stream",
     "text": [
      "The letter is a palindrome\n"
     ]
    }
   ],
   "source": [
    "#Write a program that takes a string as input and checks if it is a palindrome (reads the same forwards and backwards).\n",
    "sen=input((\"Enter a letter:\"))  \n",
    "if(sen==sen[::-1]):  \n",
    "      print(\"The letter is a palindrome\")  \n",
    "else:  \n",
    "      print(\"The letter is not a palindrome\")\n"
   ]
  },
  {
   "cell_type": "code",
   "execution_count": 51,
   "id": "24020a26-08b4-41d6-ba69-fd6d7bc4b450",
   "metadata": {},
   "outputs": [
    {
     "name": "stdin",
     "output_type": "stream",
     "text": [
      " ryp uy\n"
     ]
    },
    {
     "name": "stdout",
     "output_type": "stream",
     "text": [
      "rypuy\n"
     ]
    }
   ],
   "source": [
    "#Create a program that takes a string as input and removes all the spaces from it. Print the modified string without spaces.\n",
    "\n",
    "pgm = str(input())\n",
    "\n",
    "print(pgm.replace(\" \",\"\"))\n"
   ]
  },
  {
   "cell_type": "code",
   "execution_count": 1,
   "id": "65662b62-a1bf-47e0-9166-1470119eea96",
   "metadata": {},
   "outputs": [
    {
     "name": "stdin",
     "output_type": "stream",
     "text": [
      " Rupesh did first program\n"
     ]
    },
    {
     "name": "stdout",
     "output_type": "stream",
     "text": [
      "Number of vowels in the given string is:  6\n"
     ]
    }
   ],
   "source": [
    "sent = str(input())\n",
    "\n",
    "vowels = [\"a\", \"e\", \"i\", \"o\", \"u\"]\n",
    "count = 0\n",
    "\n",
    "# using for-each loop, character is reference to a letter in the string\n",
    "for variable in sent:\n",
    "    if variable in vowels:\n",
    "        count += 1\n",
    "\n",
    "print(\"Number of vowels in the given string is: \", count)"
   ]
  },
  {
   "cell_type": "code",
   "execution_count": null,
   "id": "01fed6b4-fb11-48b5-86ca-682ae00af9b2",
   "metadata": {},
   "outputs": [],
   "source": []
  }
 ],
 "metadata": {
  "kernelspec": {
   "display_name": "Python 3 (ipykernel)",
   "language": "python",
   "name": "python3"
  },
  "language_info": {
   "codemirror_mode": {
    "name": "ipython",
    "version": 3
   },
   "file_extension": ".py",
   "mimetype": "text/x-python",
   "name": "python",
   "nbconvert_exporter": "python",
   "pygments_lexer": "ipython3",
   "version": "3.10.8"
  }
 },
 "nbformat": 4,
 "nbformat_minor": 5
}
